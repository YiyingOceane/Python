{
 "cells": [
  {
   "cell_type": "code",
   "execution_count": 2,
   "metadata": {},
   "outputs": [
    {
     "data": {
      "text/plain": [
       "array([1, 2, 4, 5])"
      ]
     },
     "execution_count": 2,
     "metadata": {},
     "output_type": "execute_result"
    }
   ],
   "source": [
    "import numpy as np\n",
    "import pandas as pd\n",
    "import scipy\n",
    "#How can you remove duplicate values in a dataset in Python?\n",
    "\n",
    "# I can think of 3 ways to do that:\n",
    "#1\n",
    "my_array = np.array([1, 2, 2, 4, 5])\n",
    "np.unique(my_array)"
   ]
  },
  {
   "cell_type": "code",
   "execution_count": 31,
   "metadata": {},
   "outputs": [
    {
     "data": {
      "text/plain": [
       "customer_id\n",
       "A    10\n",
       "B     5\n",
       "C    50\n",
       "Name: spend, dtype: int64"
      ]
     },
     "execution_count": 31,
     "metadata": {},
     "output_type": "execute_result"
    }
   ],
   "source": [
    "#2\n",
    "df = pd.DataFrame(\n",
    "    {\n",
    "        \"customer_id\": [\"A\", \"B\", \"C\",\"C\"],\n",
    "        \"date\": [\"5/1/2017\", \"5/8/2017\", \"5/11/2017\",\"5/12/2017\"],\n",
    "        \"spend\": [10, 5, 20,30]\n",
    "    },\n",
    "    #index = [1, 2, 3, 4],\n",
    "    columns = [\"customer_id\", \"date\", \"spend\"]\n",
    ")\n",
    "result=df.groupby([\"customer_id\"])[\"spend\"].sum()\n",
    "result\n",
    "#!Question: I have to add a aggregate function like sum(). However in SQL it is not necessary.Is there anyway I could drop it?\n",
    "#!Question: I also try to do result[\"customer_id\"] but that would not work. "
   ]
  },
  {
   "cell_type": "code",
   "execution_count": null,
   "metadata": {},
   "outputs": [],
   "source": [
    "#3 Use drop duplicate. You will see it in the next answer. "
   ]
  },
  {
   "cell_type": "code",
   "execution_count": 32,
   "metadata": {},
   "outputs": [
    {
     "data": {
      "text/html": [
       "<div>\n",
       "<table border=\"1\" class=\"dataframe\">\n",
       "  <thead>\n",
       "    <tr style=\"text-align: right;\">\n",
       "      <th></th>\n",
       "      <th>Requester_id</th>\n",
       "      <th>send_to_id</th>\n",
       "      <th>time_x</th>\n",
       "      <th>acceptor_id</th>\n",
       "      <th>time_y</th>\n",
       "    </tr>\n",
       "  </thead>\n",
       "  <tbody>\n",
       "    <tr>\n",
       "      <th>0</th>\n",
       "      <td>A</td>\n",
       "      <td>D</td>\n",
       "      <td>5/1/2017</td>\n",
       "      <td>D</td>\n",
       "      <td>5/12/2017</td>\n",
       "    </tr>\n",
       "    <tr>\n",
       "      <th>1</th>\n",
       "      <td>B</td>\n",
       "      <td>E</td>\n",
       "      <td>5/8/2017</td>\n",
       "      <td>E</td>\n",
       "      <td>5/9/2017</td>\n",
       "    </tr>\n",
       "    <tr>\n",
       "      <th>2</th>\n",
       "      <td>C</td>\n",
       "      <td>A</td>\n",
       "      <td>5/11/2017</td>\n",
       "      <td>NaN</td>\n",
       "      <td>NaN</td>\n",
       "    </tr>\n",
       "    <tr>\n",
       "      <th>3</th>\n",
       "      <td>C</td>\n",
       "      <td>F</td>\n",
       "      <td>5/12/2017</td>\n",
       "      <td>F</td>\n",
       "      <td>5/13/2017</td>\n",
       "    </tr>\n",
       "  </tbody>\n",
       "</table>\n",
       "</div>"
      ],
      "text/plain": [
       "  Requester_id send_to_id     time_x acceptor_id     time_y\n",
       "0            A          D   5/1/2017           D  5/12/2017\n",
       "1            B          E   5/8/2017           E   5/9/2017\n",
       "2            C          A  5/11/2017         NaN        NaN\n",
       "3            C          F  5/12/2017           F  5/13/2017"
      ]
     },
     "execution_count": 32,
     "metadata": {},
     "output_type": "execute_result"
    }
   ],
   "source": [
    "#You are given two tables - friend_request and request_accepted.\n",
    "#Friend_request contains requester_id, time and sent_to_id and\n",
    "#request_accepted table contains time, acceptor_id and\n",
    "#requestor_id. How will you determine the overall acceptance rate\n",
    "#of requests? \n",
    "\n",
    "\n",
    "Friend_request = pd.DataFrame(\n",
    "    {\n",
    "        \"Requester_id\": [\"A\", \"B\", \"C\",\"C\",\"C\"],\n",
    "        \"time\": [\"5/1/2017\", \"5/8/2017\", \"5/11/2017\",\"5/12/2017\",\"5/13/2017\"],\n",
    "        \"send_to_id\": [\"D\", \"E\", \"A\",\"F\",\"F\"]\n",
    "    },\n",
    " \n",
    ")\n",
    "\n",
    "request_accepted = pd.DataFrame(\n",
    "    {\n",
    "        \"acceptor_id\": [\"D\", \"E\", \"F\",\"C\"],\n",
    "        \"time\": [\"5/12/2017\", \"5/9/2017\", \"5/13/2017\",\"5/14/2017\"],\n",
    "        \"Requester_id\": [\"A\", \"B\", \"C\",\"C\"]\n",
    "    },\n",
    "\n",
    ")\n",
    "#For those who sent multiple friend requests to the same person, we ocnsider that as one request.\n",
    "Unique_FR=Friend_request.drop_duplicates(subset=[\"Requester_id\", \"send_to_id\"], keep='first')\n",
    "\n",
    "rate=pd.merge(Unique_FR,request_accepted,how='left',left_on=('Requester_id','send_to_id'),right_on=('Requester_id','acceptor_id'))\n",
    "rate\n"
   ]
  },
  {
   "cell_type": "code",
   "execution_count": 73,
   "metadata": {},
   "outputs": [
    {
     "data": {
      "text/plain": [
       "0.75"
      ]
     },
     "execution_count": 73,
     "metadata": {},
     "output_type": "execute_result"
    }
   ],
   "source": [
    "#acceptance rate of requests\n",
    "1-(rate['acceptor_id'].isnull().sum()/len(rate))"
   ]
  },
  {
   "cell_type": "code",
   "execution_count": 33,
   "metadata": {},
   "outputs": [
    {
     "ename": "SyntaxError",
     "evalue": "invalid syntax (<ipython-input-33-edaaf4ebad84>, line 1)",
     "output_type": "error",
     "traceback": [
      "\u001b[0;36m  File \u001b[0;32m\"<ipython-input-33-edaaf4ebad84>\"\u001b[0;36m, line \u001b[0;32m1\u001b[0m\n\u001b[0;31m    SELECT Requester_id,send_to_id\u001b[0m\n\u001b[0m                      ^\u001b[0m\n\u001b[0;31mSyntaxError\u001b[0m\u001b[0;31m:\u001b[0m invalid syntax\n"
     ]
    }
   ],
   "source": [
    "SELECT Requester_id,send_to_id \n",
    "into #temp \n",
    "from Friend_request\n",
    "group by Requester_id,send_to_id\n",
    "\n",
    "SELECT count(*) Total \n",
    ",sum(case when b.acceptor_id is null then 0 else 1 end) count_accept \n",
    ",sum(case when b.acceptor_id is null then 0 else 1 end)/count(*) rate\n",
    ", from #temp a \n",
    "left join request_accepted b\n",
    "on a.Requester_id=b.Requester_id\n",
    "and a.send_to_id =b.acceptor_id\n"
   ]
  },
  {
   "cell_type": "code",
   "execution_count": 106,
   "metadata": {},
   "outputs": [
    {
     "name": "stdout",
     "output_type": "stream",
     "text": [
      "VISAELECTRON\n"
     ]
    }
   ],
   "source": [
    "#Homework 3\n",
    "cc='4175004175004172'\n",
    "if cc[0:2]=='34' or'37' and len(cc)==15 :print('AMEX')\n",
    "if cc[0:2]=='36' and len(cc)==14 :print('Dinner Club')\n",
    "if cc[0:1]==\"4\" and len(cc)==16:    \n",
    "    if cc[0:4]=='4026':\n",
    "         print('VISAELECTRON')\n",
    "    if cc[0:4]=='4405':\n",
    "         print('VISAELECTRON') \n",
    "    if cc[0:4]=='4508':\n",
    "         print('VISAELECTRON') \n",
    "    if cc[0:4]=='4844':\n",
    "         print('VISAELECTRON') \n",
    "    if cc[0:4]=='4913':\n",
    "         print('VISAELECTRON')\n",
    "    if cc[0:4]=='4917':\n",
    "         print('VISAELECTRON') \n",
    "    if cc[0:6]=='417500':\n",
    "         print('VISAELECTRON') \n",
    "    else:\n",
    "         print('VISA')\n",
    "            \n",
    "#!Question: How to make the credit card input an array? "
   ]
  },
  {
   "cell_type": "code",
   "execution_count": 52,
   "metadata": {},
   "outputs": [],
   "source": [
    "import matplotlib.pyplot as plt\n",
    "%matplotlib inline\n",
    "import datetime"
   ]
  },
  {
   "cell_type": "code",
   "execution_count": 59,
   "metadata": {},
   "outputs": [
    {
     "data": {
      "text/html": [
       "<div>\n",
       "<style scoped>\n",
       "    .dataframe tbody tr th:only-of-type {\n",
       "        vertical-align: middle;\n",
       "    }\n",
       "\n",
       "    .dataframe tbody tr th {\n",
       "        vertical-align: top;\n",
       "    }\n",
       "\n",
       "    .dataframe thead th {\n",
       "        text-align: right;\n",
       "    }\n",
       "</style>\n",
       "<table border=\"1\" class=\"dataframe\">\n",
       "  <thead>\n",
       "    <tr style=\"text-align: right;\">\n",
       "      <th></th>\n",
       "      <th>country</th>\n",
       "      <th>date</th>\n",
       "      <th>experiment_id</th>\n",
       "      <th>order_id</th>\n",
       "      <th>spend_usd</th>\n",
       "      <th>user_id</th>\n",
       "      <th>vertical</th>\n",
       "    </tr>\n",
       "  </thead>\n",
       "  <tbody>\n",
       "    <tr>\n",
       "      <th>0</th>\n",
       "      <td>JP</td>\n",
       "      <td>20170402</td>\n",
       "      <td>12624548</td>\n",
       "      <td>5813140433216629693</td>\n",
       "      <td>16.138855</td>\n",
       "      <td>5006730028073359543</td>\n",
       "      <td>ANDROID_APPS</td>\n",
       "    </tr>\n",
       "    <tr>\n",
       "      <th>1</th>\n",
       "      <td>US</td>\n",
       "      <td>20170403</td>\n",
       "      <td>12624549</td>\n",
       "      <td>16333056276711034931</td>\n",
       "      <td>9.990000</td>\n",
       "      <td>5938685669571545259</td>\n",
       "      <td>ANDROID_APPS</td>\n",
       "    </tr>\n",
       "    <tr>\n",
       "      <th>2</th>\n",
       "      <td>JP</td>\n",
       "      <td>20170404</td>\n",
       "      <td>12624548</td>\n",
       "      <td>11227119161741298366</td>\n",
       "      <td>19.887087</td>\n",
       "      <td>17623708458399141713</td>\n",
       "      <td>ANDROID_APPS</td>\n",
       "    </tr>\n",
       "    <tr>\n",
       "      <th>3</th>\n",
       "      <td>US</td>\n",
       "      <td>20170403</td>\n",
       "      <td>12624548</td>\n",
       "      <td>11927299833124210932</td>\n",
       "      <td>19.990000</td>\n",
       "      <td>18042812344456618148</td>\n",
       "      <td>ANDROID_APPS</td>\n",
       "    </tr>\n",
       "    <tr>\n",
       "      <th>4</th>\n",
       "      <td>JP</td>\n",
       "      <td>20170403</td>\n",
       "      <td>12624549</td>\n",
       "      <td>11644727017708872749</td>\n",
       "      <td>88.220093</td>\n",
       "      <td>4325104700699531031</td>\n",
       "      <td>ANDROID_APPS</td>\n",
       "    </tr>\n",
       "  </tbody>\n",
       "</table>\n",
       "</div>"
      ],
      "text/plain": [
       "  country      date  experiment_id              order_id  spend_usd  \\\n",
       "0      JP  20170402       12624548   5813140433216629693  16.138855   \n",
       "1      US  20170403       12624549  16333056276711034931   9.990000   \n",
       "2      JP  20170404       12624548  11227119161741298366  19.887087   \n",
       "3      US  20170403       12624548  11927299833124210932  19.990000   \n",
       "4      JP  20170403       12624549  11644727017708872749  88.220093   \n",
       "\n",
       "                user_id      vertical  \n",
       "0   5006730028073359543  ANDROID_APPS  \n",
       "1   5938685669571545259  ANDROID_APPS  \n",
       "2  17623708458399141713  ANDROID_APPS  \n",
       "3  18042812344456618148  ANDROID_APPS  \n",
       "4   4325104700699531031  ANDROID_APPS  "
      ]
     },
     "execution_count": 59,
     "metadata": {},
     "output_type": "execute_result"
    }
   ],
   "source": [
    "file_location='C:/Users/yzhang/Desktop/bittiger/'\n",
    "file_name = \"BA501_python_data.csv\"\n",
    "my_data = pd.read_csv(file_location + file_name)\n",
    "my_data .head(5)\n",
    "\n"
   ]
  },
  {
   "cell_type": "code",
   "execution_count": 60,
   "metadata": {},
   "outputs": [
    {
     "data": {
      "text/html": [
       "<div>\n",
       "<style scoped>\n",
       "    .dataframe tbody tr th:only-of-type {\n",
       "        vertical-align: middle;\n",
       "    }\n",
       "\n",
       "    .dataframe tbody tr th {\n",
       "        vertical-align: top;\n",
       "    }\n",
       "\n",
       "    .dataframe thead th {\n",
       "        text-align: right;\n",
       "    }\n",
       "</style>\n",
       "<table border=\"1\" class=\"dataframe\">\n",
       "  <thead>\n",
       "    <tr style=\"text-align: right;\">\n",
       "      <th></th>\n",
       "      <th>country</th>\n",
       "      <th>date</th>\n",
       "      <th>experiment_id</th>\n",
       "      <th>order_id</th>\n",
       "      <th>spend_usd</th>\n",
       "      <th>user_id</th>\n",
       "      <th>vertical</th>\n",
       "    </tr>\n",
       "  </thead>\n",
       "  <tbody>\n",
       "    <tr>\n",
       "      <th>0</th>\n",
       "      <td>JP</td>\n",
       "      <td>2017-04-02</td>\n",
       "      <td>12624548</td>\n",
       "      <td>5813140433216629693</td>\n",
       "      <td>16.138855</td>\n",
       "      <td>5006730028073359543</td>\n",
       "      <td>ANDROID_APPS</td>\n",
       "    </tr>\n",
       "    <tr>\n",
       "      <th>1</th>\n",
       "      <td>US</td>\n",
       "      <td>2017-04-03</td>\n",
       "      <td>12624549</td>\n",
       "      <td>16333056276711034931</td>\n",
       "      <td>9.990000</td>\n",
       "      <td>5938685669571545259</td>\n",
       "      <td>ANDROID_APPS</td>\n",
       "    </tr>\n",
       "    <tr>\n",
       "      <th>2</th>\n",
       "      <td>JP</td>\n",
       "      <td>2017-04-04</td>\n",
       "      <td>12624548</td>\n",
       "      <td>11227119161741298366</td>\n",
       "      <td>19.887087</td>\n",
       "      <td>17623708458399141713</td>\n",
       "      <td>ANDROID_APPS</td>\n",
       "    </tr>\n",
       "    <tr>\n",
       "      <th>3</th>\n",
       "      <td>US</td>\n",
       "      <td>2017-04-03</td>\n",
       "      <td>12624548</td>\n",
       "      <td>11927299833124210932</td>\n",
       "      <td>19.990000</td>\n",
       "      <td>18042812344456618148</td>\n",
       "      <td>ANDROID_APPS</td>\n",
       "    </tr>\n",
       "    <tr>\n",
       "      <th>4</th>\n",
       "      <td>JP</td>\n",
       "      <td>2017-04-03</td>\n",
       "      <td>12624549</td>\n",
       "      <td>11644727017708872749</td>\n",
       "      <td>88.220093</td>\n",
       "      <td>4325104700699531031</td>\n",
       "      <td>ANDROID_APPS</td>\n",
       "    </tr>\n",
       "  </tbody>\n",
       "</table>\n",
       "</div>"
      ],
      "text/plain": [
       "  country       date  experiment_id              order_id  spend_usd  \\\n",
       "0      JP 2017-04-02       12624548   5813140433216629693  16.138855   \n",
       "1      US 2017-04-03       12624549  16333056276711034931   9.990000   \n",
       "2      JP 2017-04-04       12624548  11227119161741298366  19.887087   \n",
       "3      US 2017-04-03       12624548  11927299833124210932  19.990000   \n",
       "4      JP 2017-04-03       12624549  11644727017708872749  88.220093   \n",
       "\n",
       "                user_id      vertical  \n",
       "0   5006730028073359543  ANDROID_APPS  \n",
       "1   5938685669571545259  ANDROID_APPS  \n",
       "2  17623708458399141713  ANDROID_APPS  \n",
       "3  18042812344456618148  ANDROID_APPS  \n",
       "4   4325104700699531031  ANDROID_APPS  "
      ]
     },
     "execution_count": 60,
     "metadata": {},
     "output_type": "execute_result"
    }
   ],
   "source": [
    "my_data .date = pd.to_datetime(my_data.date, format='%Y%m%d')\n",
    "my_data .head()"
   ]
  },
  {
   "cell_type": "code",
   "execution_count": 82,
   "metadata": {},
   "outputs": [],
   "source": [
    "# for any given experiment_id, return a list group by date\n",
    "def GetSeries(my_data , my_id,country, vertical):\n",
    "    table = my_data [[\"date\", \"spend_usd\"]][(my_data.experiment_id == my_id) & (my_data.country== country)&(my_data.vertical== vertical)]\n",
    "    series = table.groupby('date')['spend_usd'].sum()\n",
    "    series = np.cumsum(series)\n",
    "    total_revenue = series[-1]\n",
    "    return((series, total_revenue))\n"
   ]
  },
  {
   "cell_type": "code",
   "execution_count": 83,
   "metadata": {},
   "outputs": [
    {
     "data": {
      "text/plain": [
       "(date\n",
       " 2017-04-01     36116.466827\n",
       " 2017-04-02     51252.864380\n",
       " 2017-04-03     68230.835478\n",
       " 2017-04-04     77689.894759\n",
       " 2017-04-05     94314.111609\n",
       " 2017-04-06    105100.447679\n",
       " 2017-04-07    118077.056709\n",
       " Name: spend_usd, dtype: float64, 118077.05670900008)"
      ]
     },
     "execution_count": 83,
     "metadata": {},
     "output_type": "execute_result"
    }
   ],
   "source": [
    "# test if this works\n",
    "blue = GetSeries(my_data , 12624548,'JP','ANDROID_APPS')\n",
    "blue"
   ]
  },
  {
   "cell_type": "code",
   "execution_count": 84,
   "metadata": {},
   "outputs": [],
   "source": [
    "def PlotSeries(experiment_series, control_series):\n",
    "    fig, ax = plt.subplots()\n",
    "    ax.plot(experiment_series, color=\"red\", label=\"experiment\")\n",
    "    ax.plot(control_series, color=\"blue\", label=\"control\")\n",
    "    ax.set_title(\"Red vs. Blue\")\n",
    "    ax.set_ylabel(\"Total spend\")\n",
    "    ax.grid(True, which=\"both\")\n",
    "    ax.legend()\n",
    "    plt.gcf().autofmt_xdate()\n",
    "    \n",
    "def PrintCumulativeTimeSeries(my_data, experiment_ids, country,vertical)\n",
    "    index_series = np.unique(my_data.date) \n",
    "    index_series = np.sort(index_series) \n",
    "    my_data = my_data.sort_values(\"date\", ascending=True, inplace=False)\n",
    "    treatment_series = GetSeries(my_data, experiment_ids[0], country,vertical)[0]\n",
    "    control_series = GetSeries(my_data, experiment_ids[1], country,vertical)[0]\n",
    "    treatment_revenue = GetSeries(my_data, experiment_ids[0], country,vertical)[1]\n",
    "    control_revenue = GetSeries(my_data, experiment_ids[1], country,vertical)[1]\n",
    "    \n",
    "    print(\"Cumulative revenue impact: \" + str(treatment_revenue/control_revenue*100-100) + \"%\")\n",
    "    PlotSeries(treatment_series, control_series)"
   ]
  },
  {
   "cell_type": "code",
   "execution_count": 85,
   "metadata": {},
   "outputs": [
    {
     "name": "stdout",
     "output_type": "stream",
     "text": [
      "Cumulative revenue impact: -4.35272685442834%\n"
     ]
    },
    {
     "data": {
      "image/png": "[encoded data removed]",
      "text/plain": [
       "<matplotlib.figure.Figure at 0xb260278>"
      ]
     },
     "metadata": {},
     "output_type": "display_data"
    }
   ],
   "source": [
    "\n",
    "PrintCumulativeTimeSeries(my_data, [12624548,12624549], \"US\",'ANDROID_APPS')"
   ]
  },
  {
   "cell_type": "code",
   "execution_count": null,
   "metadata": {},
   "outputs": [],
   "source": []
  },
  {
   "cell_type": "code",
   "execution_count": null,
   "metadata": {},
   "outputs": [],
   "source": []
  }
 ],
 "metadata": {
  "kernelspec": {
   "display_name": "Python 3",
   "language": "python",
   "name": "python3"
  },
  "language_info": {
   "codemirror_mode": {
    "name": "ipython",
    "version": 3
   },
   "file_extension": ".py",
   "mimetype": "text/x-python",
   "name": "python",
   "nbconvert_exporter": "python",
   "pygments_lexer": "ipython3",
   "version": "3.6.4"
  }
 },
 "nbformat": 4,
 "nbformat_minor": 2
}
